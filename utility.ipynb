{
 "cells": [
  {
   "cell_type": "code",
   "execution_count": 23,
   "id": "961fa65d-9a11-41be-bc01-c154977f18fc",
   "metadata": {},
   "outputs": [],
   "source": [
    "import pandas as pd\n",
    "import numpy as np"
   ]
  },
  {
   "cell_type": "code",
   "execution_count": 251,
   "id": "9700cac3",
   "metadata": {},
   "outputs": [
    {
     "data": {
      "text/html": [
       "<div>\n",
       "<style scoped>\n",
       "    .dataframe tbody tr th:only-of-type {\n",
       "        vertical-align: middle;\n",
       "    }\n",
       "\n",
       "    .dataframe tbody tr th {\n",
       "        vertical-align: top;\n",
       "    }\n",
       "\n",
       "    .dataframe thead th {\n",
       "        text-align: right;\n",
       "    }\n",
       "</style>\n",
       "<table border=\"1\" class=\"dataframe\">\n",
       "  <thead>\n",
       "    <tr style=\"text-align: right;\">\n",
       "      <th></th>\n",
       "      <th>tp</th>\n",
       "      <th>ur</th>\n",
       "    </tr>\n",
       "  </thead>\n",
       "  <tbody>\n",
       "    <tr>\n",
       "      <th>0</th>\n",
       "      <td>-10.2</td>\n",
       "      <td>99</td>\n",
       "    </tr>\n",
       "    <tr>\n",
       "      <th>1</th>\n",
       "      <td>12.0</td>\n",
       "      <td>120</td>\n",
       "    </tr>\n",
       "  </tbody>\n",
       "</table>\n",
       "</div>"
      ],
      "text/plain": [
       "     tp   ur\n",
       "0 -10.2   99\n",
       "1  12.0  120"
      ]
     },
     "execution_count": 251,
     "metadata": {},
     "output_type": "execute_result"
    }
   ],
   "source": [
    "c = [\n",
    "    [\"tp\", \"ur\"],\n",
    "    [-10.2, 99],\n",
    "    [12, 120]\n",
    "]\n",
    "df = pd.DataFrame(c[1:], columns=c[0])\n",
    "df"
   ]
  },
  {
   "cell_type": "markdown",
   "metadata": {},
   "source": [
    "SORT BY VALUE con nuovo index aggiornato"
   ]
  },
  {
   "cell_type": "code",
   "execution_count": 248,
   "metadata": {},
   "outputs": [
    {
     "data": {
      "text/html": [
       "<div>\n",
       "<style scoped>\n",
       "    .dataframe tbody tr th:only-of-type {\n",
       "        vertical-align: middle;\n",
       "    }\n",
       "\n",
       "    .dataframe tbody tr th {\n",
       "        vertical-align: top;\n",
       "    }\n",
       "\n",
       "    .dataframe thead th {\n",
       "        text-align: right;\n",
       "    }\n",
       "</style>\n",
       "<table border=\"1\" class=\"dataframe\">\n",
       "  <thead>\n",
       "    <tr style=\"text-align: right;\">\n",
       "      <th></th>\n",
       "      <th>tp</th>\n",
       "      <th>ur</th>\n",
       "    </tr>\n",
       "  </thead>\n",
       "  <tbody>\n",
       "    <tr>\n",
       "      <th>0</th>\n",
       "      <td>12.0</td>\n",
       "      <td>120</td>\n",
       "    </tr>\n",
       "    <tr>\n",
       "      <th>1</th>\n",
       "      <td>-10.2</td>\n",
       "      <td>99</td>\n",
       "    </tr>\n",
       "  </tbody>\n",
       "</table>\n",
       "</div>"
      ],
      "text/plain": [
       "     tp   ur\n",
       "0  12.0  120\n",
       "1 -10.2   99"
      ]
     },
     "execution_count": 248,
     "metadata": {},
     "output_type": "execute_result"
    }
   ],
   "source": [
    "tp = df.sort_values(by='tp', ascending=False, ignore_index=True)\n",
    "tp"
   ]
  },
  {
   "cell_type": "code",
   "execution_count": 249,
   "metadata": {},
   "outputs": [
    {
     "data": {
      "text/html": [
       "<div>\n",
       "<style scoped>\n",
       "    .dataframe tbody tr th:only-of-type {\n",
       "        vertical-align: middle;\n",
       "    }\n",
       "\n",
       "    .dataframe tbody tr th {\n",
       "        vertical-align: top;\n",
       "    }\n",
       "\n",
       "    .dataframe thead th {\n",
       "        text-align: right;\n",
       "    }\n",
       "</style>\n",
       "<table border=\"1\" class=\"dataframe\">\n",
       "  <thead>\n",
       "    <tr style=\"text-align: right;\">\n",
       "      <th></th>\n",
       "      <th>tp</th>\n",
       "      <th>ur</th>\n",
       "    </tr>\n",
       "  </thead>\n",
       "  <tbody>\n",
       "    <tr>\n",
       "      <th>0</th>\n",
       "      <td>12.0</td>\n",
       "      <td>120</td>\n",
       "    </tr>\n",
       "    <tr>\n",
       "      <th>1</th>\n",
       "      <td>-10.2</td>\n",
       "      <td>99</td>\n",
       "    </tr>\n",
       "  </tbody>\n",
       "</table>\n",
       "</div>"
      ],
      "text/plain": [
       "     tp   ur\n",
       "0  12.0  120\n",
       "1 -10.2   99"
      ]
     },
     "execution_count": 249,
     "metadata": {},
     "output_type": "execute_result"
    }
   ],
   "source": [
    "df #se non uso inplace sopra, l'originale viene mantenuto"
   ]
  },
  {
   "cell_type": "markdown",
   "metadata": {},
   "source": [
    "FILTERING"
   ]
  },
  {
   "cell_type": "code",
   "execution_count": 154,
   "id": "d3a08665",
   "metadata": {},
   "outputs": [
    {
     "data": {
      "text/html": [
       "<div>\n",
       "<style scoped>\n",
       "    .dataframe tbody tr th:only-of-type {\n",
       "        vertical-align: middle;\n",
       "    }\n",
       "\n",
       "    .dataframe tbody tr th {\n",
       "        vertical-align: top;\n",
       "    }\n",
       "\n",
       "    .dataframe thead th {\n",
       "        text-align: right;\n",
       "    }\n",
       "</style>\n",
       "<table border=\"1\" class=\"dataframe\">\n",
       "  <thead>\n",
       "    <tr style=\"text-align: right;\">\n",
       "      <th></th>\n",
       "      <th>tp</th>\n",
       "      <th>ur</th>\n",
       "    </tr>\n",
       "  </thead>\n",
       "  <tbody>\n",
       "    <tr>\n",
       "      <th>0</th>\n",
       "      <td>-10.2</td>\n",
       "      <td>99</td>\n",
       "    </tr>\n",
       "    <tr>\n",
       "      <th>1</th>\n",
       "      <td>12.0</td>\n",
       "      <td>120</td>\n",
       "    </tr>\n",
       "  </tbody>\n",
       "</table>\n",
       "</div>"
      ],
      "text/plain": [
       "     tp   ur\n",
       "0 -10.2   99\n",
       "1  12.0  120"
      ]
     },
     "execution_count": 154,
     "metadata": {},
     "output_type": "execute_result"
    }
   ],
   "source": [
    "df[(df['ur'] >= 0)]"
   ]
  },
  {
   "cell_type": "markdown",
   "metadata": {},
   "source": [
    "ROW"
   ]
  },
  {
   "cell_type": "code",
   "execution_count": 158,
   "id": "9a252e71",
   "metadata": {},
   "outputs": [
    {
     "name": "stdout",
     "output_type": "stream",
     "text": [
      "<class 'pandas.core.series.Series'>\n"
     ]
    },
    {
     "data": {
      "text/plain": [
       "tp     12.0\n",
       "ur    120.0\n",
       "Name: 1, dtype: float64"
      ]
     },
     "execution_count": 158,
     "metadata": {},
     "output_type": "execute_result"
    }
   ],
   "source": [
    "print(type(df.loc[1]))\n",
    "df.loc[1]"
   ]
  },
  {
   "cell_type": "markdown",
   "metadata": {},
   "source": [
    "COLUMNS"
   ]
  },
  {
   "cell_type": "code",
   "execution_count": 159,
   "id": "e41a31f5",
   "metadata": {},
   "outputs": [
    {
     "name": "stdout",
     "output_type": "stream",
     "text": [
      "<class 'pandas.core.series.Series'>\n"
     ]
    },
    {
     "data": {
      "text/plain": [
       "0   -10.2\n",
       "1    12.0\n",
       "Name: tp, dtype: float64"
      ]
     },
     "execution_count": 159,
     "metadata": {},
     "output_type": "execute_result"
    }
   ],
   "source": [
    "print(type(df[\"tp\"]))\n",
    "df[\"tp\"]"
   ]
  },
  {
   "cell_type": "markdown",
   "metadata": {},
   "source": [
    "GET ELEMENT"
   ]
  },
  {
   "cell_type": "code",
   "execution_count": 156,
   "metadata": {},
   "outputs": [
    {
     "data": {
      "text/plain": [
       "np.float64(-10.2)"
      ]
     },
     "execution_count": 156,
     "metadata": {},
     "output_type": "execute_result"
    }
   ],
   "source": [
    "df[\"tp\"].loc[0]"
   ]
  },
  {
   "cell_type": "code",
   "execution_count": 38,
   "metadata": {},
   "outputs": [
    {
     "data": {
      "text/plain": [
       "np.float64(-10.2)"
      ]
     },
     "execution_count": 38,
     "metadata": {},
     "output_type": "execute_result"
    }
   ],
   "source": [
    "df.loc[0][\"tp\"]"
   ]
  },
  {
   "cell_type": "code",
   "execution_count": 253,
   "metadata": {},
   "outputs": [
    {
     "data": {
      "text/plain": [
       "np.float64(-10.2)"
      ]
     },
     "execution_count": 253,
     "metadata": {},
     "output_type": "execute_result"
    }
   ],
   "source": [
    "df.tp.loc[0] # df. solo per colonne"
   ]
  },
  {
   "cell_type": "markdown",
   "metadata": {},
   "source": [
    "SELECT SUBSET BY INDEXES:\n",
    "\n",
    "iloc prende solo indici\n",
    "\n",
    "loc prende indici e label per righe, solo label per colonne"
   ]
  },
  {
   "cell_type": "code",
   "execution_count": 163,
   "metadata": {},
   "outputs": [
    {
     "data": {
      "text/html": [
       "<div>\n",
       "<style scoped>\n",
       "    .dataframe tbody tr th:only-of-type {\n",
       "        vertical-align: middle;\n",
       "    }\n",
       "\n",
       "    .dataframe tbody tr th {\n",
       "        vertical-align: top;\n",
       "    }\n",
       "\n",
       "    .dataframe thead th {\n",
       "        text-align: right;\n",
       "    }\n",
       "</style>\n",
       "<table border=\"1\" class=\"dataframe\">\n",
       "  <thead>\n",
       "    <tr style=\"text-align: right;\">\n",
       "      <th></th>\n",
       "      <th>tp</th>\n",
       "      <th>ur</th>\n",
       "    </tr>\n",
       "  </thead>\n",
       "  <tbody>\n",
       "    <tr>\n",
       "      <th>1</th>\n",
       "      <td>12.0</td>\n",
       "      <td>120</td>\n",
       "    </tr>\n",
       "    <tr>\n",
       "      <th>0</th>\n",
       "      <td>-10.2</td>\n",
       "      <td>99</td>\n",
       "    </tr>\n",
       "  </tbody>\n",
       "</table>\n",
       "</div>"
      ],
      "text/plain": [
       "     tp   ur\n",
       "1  12.0  120\n",
       "0 -10.2   99"
      ]
     },
     "execution_count": 163,
     "metadata": {},
     "output_type": "execute_result"
    }
   ],
   "source": [
    "df.iloc[[1,0], [0,1]] #indice di righe e indice di colonne"
   ]
  },
  {
   "cell_type": "markdown",
   "metadata": {},
   "source": [
    "SELECT SUBSET BY LABELS"
   ]
  },
  {
   "cell_type": "code",
   "execution_count": 169,
   "metadata": {},
   "outputs": [
    {
     "data": {
      "text/html": [
       "<div>\n",
       "<style scoped>\n",
       "    .dataframe tbody tr th:only-of-type {\n",
       "        vertical-align: middle;\n",
       "    }\n",
       "\n",
       "    .dataframe tbody tr th {\n",
       "        vertical-align: top;\n",
       "    }\n",
       "\n",
       "    .dataframe thead th {\n",
       "        text-align: right;\n",
       "    }\n",
       "</style>\n",
       "<table border=\"1\" class=\"dataframe\">\n",
       "  <thead>\n",
       "    <tr style=\"text-align: right;\">\n",
       "      <th></th>\n",
       "      <th>tp</th>\n",
       "      <th>ur</th>\n",
       "    </tr>\n",
       "  </thead>\n",
       "  <tbody>\n",
       "    <tr>\n",
       "      <th>1</th>\n",
       "      <td>12.0</td>\n",
       "      <td>120</td>\n",
       "    </tr>\n",
       "    <tr>\n",
       "      <th>0</th>\n",
       "      <td>-10.2</td>\n",
       "      <td>99</td>\n",
       "    </tr>\n",
       "  </tbody>\n",
       "</table>\n",
       "</div>"
      ],
      "text/plain": [
       "     tp   ur\n",
       "1  12.0  120\n",
       "0 -10.2   99"
      ]
     },
     "execution_count": 169,
     "metadata": {},
     "output_type": "execute_result"
    }
   ],
   "source": [
    "df.loc[[1,0], [\"tp\",\"ur\"]]"
   ]
  },
  {
   "cell_type": "code",
   "execution_count": 170,
   "metadata": {},
   "outputs": [
    {
     "data": {
      "text/html": [
       "<div>\n",
       "<style scoped>\n",
       "    .dataframe tbody tr th:only-of-type {\n",
       "        vertical-align: middle;\n",
       "    }\n",
       "\n",
       "    .dataframe tbody tr th {\n",
       "        vertical-align: top;\n",
       "    }\n",
       "\n",
       "    .dataframe thead th {\n",
       "        text-align: right;\n",
       "    }\n",
       "</style>\n",
       "<table border=\"1\" class=\"dataframe\">\n",
       "  <thead>\n",
       "    <tr style=\"text-align: right;\">\n",
       "      <th></th>\n",
       "      <th>tp</th>\n",
       "      <th>ur</th>\n",
       "    </tr>\n",
       "  </thead>\n",
       "  <tbody>\n",
       "    <tr>\n",
       "      <th>0</th>\n",
       "      <td>-10.2</td>\n",
       "      <td>99</td>\n",
       "    </tr>\n",
       "    <tr>\n",
       "      <th>1</th>\n",
       "      <td>12.0</td>\n",
       "      <td>120</td>\n",
       "    </tr>\n",
       "  </tbody>\n",
       "</table>\n",
       "</div>"
      ],
      "text/plain": [
       "     tp   ur\n",
       "0 -10.2   99\n",
       "1  12.0  120"
      ]
     },
     "execution_count": 170,
     "metadata": {},
     "output_type": "execute_result"
    }
   ],
   "source": [
    "df.loc[:, \"tp\":]"
   ]
  },
  {
   "cell_type": "markdown",
   "metadata": {},
   "source": [
    "LABELS IN ROW"
   ]
  },
  {
   "cell_type": "code",
   "execution_count": 171,
   "metadata": {},
   "outputs": [
    {
     "data": {
      "text/html": [
       "<div>\n",
       "<style scoped>\n",
       "    .dataframe tbody tr th:only-of-type {\n",
       "        vertical-align: middle;\n",
       "    }\n",
       "\n",
       "    .dataframe tbody tr th {\n",
       "        vertical-align: top;\n",
       "    }\n",
       "\n",
       "    .dataframe thead th {\n",
       "        text-align: right;\n",
       "    }\n",
       "</style>\n",
       "<table border=\"1\" class=\"dataframe\">\n",
       "  <thead>\n",
       "    <tr style=\"text-align: right;\">\n",
       "      <th></th>\n",
       "      <th>tp</th>\n",
       "      <th>ur</th>\n",
       "    </tr>\n",
       "  </thead>\n",
       "  <tbody>\n",
       "    <tr>\n",
       "      <th>zero</th>\n",
       "      <td>-10.2</td>\n",
       "      <td>99</td>\n",
       "    </tr>\n",
       "    <tr>\n",
       "      <th>uno</th>\n",
       "      <td>12.0</td>\n",
       "      <td>120</td>\n",
       "    </tr>\n",
       "  </tbody>\n",
       "</table>\n",
       "</div>"
      ],
      "text/plain": [
       "        tp   ur\n",
       "zero -10.2   99\n",
       "uno   12.0  120"
      ]
     },
     "execution_count": 171,
     "metadata": {},
     "output_type": "execute_result"
    }
   ],
   "source": [
    "c2 = [\n",
    "    [\"tp\", \"ur\"],\n",
    "    [-10.2, 99],\n",
    "    [12, 120]\n",
    "]\n",
    "df2 = pd.DataFrame(c[1:], columns=c[0], index=[\"zero\", \"uno\"])\n",
    "df2"
   ]
  },
  {
   "cell_type": "code",
   "execution_count": 172,
   "metadata": {},
   "outputs": [
    {
     "data": {
      "text/html": [
       "<div>\n",
       "<style scoped>\n",
       "    .dataframe tbody tr th:only-of-type {\n",
       "        vertical-align: middle;\n",
       "    }\n",
       "\n",
       "    .dataframe tbody tr th {\n",
       "        vertical-align: top;\n",
       "    }\n",
       "\n",
       "    .dataframe thead th {\n",
       "        text-align: right;\n",
       "    }\n",
       "</style>\n",
       "<table border=\"1\" class=\"dataframe\">\n",
       "  <thead>\n",
       "    <tr style=\"text-align: right;\">\n",
       "      <th></th>\n",
       "      <th>tp</th>\n",
       "      <th>ur</th>\n",
       "    </tr>\n",
       "  </thead>\n",
       "  <tbody>\n",
       "    <tr>\n",
       "      <th>1</th>\n",
       "      <td>12.0</td>\n",
       "      <td>120</td>\n",
       "    </tr>\n",
       "    <tr>\n",
       "      <th>0</th>\n",
       "      <td>-10.2</td>\n",
       "      <td>99</td>\n",
       "    </tr>\n",
       "  </tbody>\n",
       "</table>\n",
       "</div>"
      ],
      "text/plain": [
       "     tp   ur\n",
       "1  12.0  120\n",
       "0 -10.2   99"
      ]
     },
     "execution_count": 172,
     "metadata": {},
     "output_type": "execute_result"
    }
   ],
   "source": [
    "df2.loc[[1,0], [\"tp\",\"ur\"]]"
   ]
  },
  {
   "cell_type": "code",
   "execution_count": 175,
   "metadata": {},
   "outputs": [
    {
     "data": {
      "text/html": [
       "<div>\n",
       "<style scoped>\n",
       "    .dataframe tbody tr th:only-of-type {\n",
       "        vertical-align: middle;\n",
       "    }\n",
       "\n",
       "    .dataframe tbody tr th {\n",
       "        vertical-align: top;\n",
       "    }\n",
       "\n",
       "    .dataframe thead th {\n",
       "        text-align: right;\n",
       "    }\n",
       "</style>\n",
       "<table border=\"1\" class=\"dataframe\">\n",
       "  <thead>\n",
       "    <tr style=\"text-align: right;\">\n",
       "      <th></th>\n",
       "      <th>tp</th>\n",
       "      <th>ur</th>\n",
       "    </tr>\n",
       "  </thead>\n",
       "  <tbody>\n",
       "    <tr>\n",
       "      <th>uno</th>\n",
       "      <td>12.0</td>\n",
       "      <td>120</td>\n",
       "    </tr>\n",
       "    <tr>\n",
       "      <th>zero</th>\n",
       "      <td>-10.2</td>\n",
       "      <td>99</td>\n",
       "    </tr>\n",
       "  </tbody>\n",
       "</table>\n",
       "</div>"
      ],
      "text/plain": [
       "        tp   ur\n",
       "uno   12.0  120\n",
       "zero -10.2   99"
      ]
     },
     "execution_count": 175,
     "metadata": {},
     "output_type": "execute_result"
    }
   ],
   "source": [
    "df2.loc[[\"uno\",\"zero\"], [\"tp\",\"ur\"]]"
   ]
  },
  {
   "cell_type": "code",
   "execution_count": 178,
   "metadata": {},
   "outputs": [
    {
     "data": {
      "text/html": [
       "<div>\n",
       "<style scoped>\n",
       "    .dataframe tbody tr th:only-of-type {\n",
       "        vertical-align: middle;\n",
       "    }\n",
       "\n",
       "    .dataframe tbody tr th {\n",
       "        vertical-align: top;\n",
       "    }\n",
       "\n",
       "    .dataframe thead th {\n",
       "        text-align: right;\n",
       "    }\n",
       "</style>\n",
       "<table border=\"1\" class=\"dataframe\">\n",
       "  <thead>\n",
       "    <tr style=\"text-align: right;\">\n",
       "      <th></th>\n",
       "      <th>tp</th>\n",
       "      <th>ur</th>\n",
       "    </tr>\n",
       "  </thead>\n",
       "  <tbody>\n",
       "    <tr>\n",
       "      <th>zero</th>\n",
       "      <td>-10.2</td>\n",
       "      <td>99</td>\n",
       "    </tr>\n",
       "    <tr>\n",
       "      <th>uno</th>\n",
       "      <td>12.0</td>\n",
       "      <td>120</td>\n",
       "    </tr>\n",
       "  </tbody>\n",
       "</table>\n",
       "</div>"
      ],
      "text/plain": [
       "        tp   ur\n",
       "zero -10.2   99\n",
       "uno   12.0  120"
      ]
     },
     "execution_count": 178,
     "metadata": {},
     "output_type": "execute_result"
    }
   ],
   "source": [
    "df2.iloc[[0,1], [0,1]]"
   ]
  },
  {
   "cell_type": "markdown",
   "metadata": {},
   "source": [
    "SELECT LIST OF ROW"
   ]
  },
  {
   "cell_type": "code",
   "execution_count": 66,
   "metadata": {},
   "outputs": [
    {
     "data": {
      "text/html": [
       "<div>\n",
       "<style scoped>\n",
       "    .dataframe tbody tr th:only-of-type {\n",
       "        vertical-align: middle;\n",
       "    }\n",
       "\n",
       "    .dataframe tbody tr th {\n",
       "        vertical-align: top;\n",
       "    }\n",
       "\n",
       "    .dataframe thead th {\n",
       "        text-align: right;\n",
       "    }\n",
       "</style>\n",
       "<table border=\"1\" class=\"dataframe\">\n",
       "  <thead>\n",
       "    <tr style=\"text-align: right;\">\n",
       "      <th></th>\n",
       "      <th>tp</th>\n",
       "      <th>ur</th>\n",
       "    </tr>\n",
       "  </thead>\n",
       "  <tbody>\n",
       "    <tr>\n",
       "      <th>0</th>\n",
       "      <td>-10.2</td>\n",
       "      <td>99</td>\n",
       "    </tr>\n",
       "    <tr>\n",
       "      <th>1</th>\n",
       "      <td>12.0</td>\n",
       "      <td>120</td>\n",
       "    </tr>\n",
       "  </tbody>\n",
       "</table>\n",
       "</div>"
      ],
      "text/plain": [
       "     tp   ur\n",
       "0 -10.2   99\n",
       "1  12.0  120"
      ]
     },
     "execution_count": 66,
     "metadata": {},
     "output_type": "execute_result"
    }
   ],
   "source": [
    "df.loc[[0,1]]"
   ]
  },
  {
   "cell_type": "markdown",
   "metadata": {},
   "source": [
    "SELECT LIST OF COLUMN"
   ]
  },
  {
   "cell_type": "code",
   "execution_count": 139,
   "metadata": {},
   "outputs": [
    {
     "data": {
      "text/html": [
       "<div>\n",
       "<style scoped>\n",
       "    .dataframe tbody tr th:only-of-type {\n",
       "        vertical-align: middle;\n",
       "    }\n",
       "\n",
       "    .dataframe tbody tr th {\n",
       "        vertical-align: top;\n",
       "    }\n",
       "\n",
       "    .dataframe thead th {\n",
       "        text-align: right;\n",
       "    }\n",
       "</style>\n",
       "<table border=\"1\" class=\"dataframe\">\n",
       "  <thead>\n",
       "    <tr style=\"text-align: right;\">\n",
       "      <th></th>\n",
       "      <th>tp</th>\n",
       "      <th>ur</th>\n",
       "    </tr>\n",
       "  </thead>\n",
       "  <tbody>\n",
       "    <tr>\n",
       "      <th>0</th>\n",
       "      <td>-10.2</td>\n",
       "      <td>99</td>\n",
       "    </tr>\n",
       "    <tr>\n",
       "      <th>1</th>\n",
       "      <td>12.0</td>\n",
       "      <td>120</td>\n",
       "    </tr>\n",
       "  </tbody>\n",
       "</table>\n",
       "</div>"
      ],
      "text/plain": [
       "     tp   ur\n",
       "0 -10.2   99\n",
       "1  12.0  120"
      ]
     },
     "execution_count": 139,
     "metadata": {},
     "output_type": "execute_result"
    }
   ],
   "source": [
    "df[[\"tp\", \"ur\"]] #prima quadra seleziona le colonne e io passo una lista di colonne"
   ]
  },
  {
   "cell_type": "markdown",
   "metadata": {},
   "source": [
    "PROVE DI STD"
   ]
  },
  {
   "cell_type": "code",
   "execution_count": 179,
   "metadata": {},
   "outputs": [
    {
     "data": {
      "text/plain": [
       "np.float64(0.0816496580927726)"
      ]
     },
     "execution_count": 179,
     "metadata": {},
     "output_type": "execute_result"
    }
   ],
   "source": [
    "pd.Series([0.1, 0.3, 0.3, 0.3, 0.3, 0.3]).std()\n",
    "\n"
   ]
  },
  {
   "cell_type": "markdown",
   "metadata": {},
   "source": [
    "FALLISCE il controllo std < 0.1 come da norma\n",
    "\n",
    "Uso massima differenza nella finestra (esempio finestra di 3 valori)"
   ]
  },
  {
   "cell_type": "code",
   "execution_count": 190,
   "metadata": {},
   "outputs": [
    {
     "data": {
      "text/plain": [
       "0    NaN\n",
       "1    NaN\n",
       "2    0.3\n",
       "3    0.3\n",
       "4    0.3\n",
       "5    0.3\n",
       "Name: B, dtype: float64"
      ]
     },
     "execution_count": 190,
     "metadata": {},
     "output_type": "execute_result"
    }
   ],
   "source": [
    "\n",
    "ap = pd.DataFrame({'B': [0.3, 0.3, 0.3, 0.2, 0.3, 0.3]})\n",
    "\n",
    "ap[\"B\"].rolling(window=3).max()"
   ]
  },
  {
   "cell_type": "code",
   "execution_count": 191,
   "metadata": {},
   "outputs": [
    {
     "data": {
      "text/plain": [
       "0    NaN\n",
       "1    NaN\n",
       "2    0.3\n",
       "3    0.2\n",
       "4    0.2\n",
       "5    0.2\n",
       "Name: B, dtype: float64"
      ]
     },
     "execution_count": 191,
     "metadata": {},
     "output_type": "execute_result"
    }
   ],
   "source": [
    "ap[\"B\"].rolling(window=3).min()"
   ]
  },
  {
   "cell_type": "markdown",
   "metadata": {},
   "source": [
    "ELIMINO DOVE È < 0.1"
   ]
  },
  {
   "cell_type": "code",
   "execution_count": 192,
   "metadata": {},
   "outputs": [
    {
     "data": {
      "text/plain": [
       "0    NaN\n",
       "1    NaN\n",
       "2    0.0\n",
       "3    0.1\n",
       "4    0.1\n",
       "5    0.1\n",
       "Name: B, dtype: float64"
      ]
     },
     "execution_count": 192,
     "metadata": {},
     "output_type": "execute_result"
    }
   ],
   "source": [
    "ap[\"B\"].rolling(window=3).max() - ap[\"B\"].rolling(window=3).min()"
   ]
  },
  {
   "cell_type": "markdown",
   "metadata": {},
   "source": [
    "DIFF FRA DIREZIONI"
   ]
  },
  {
   "cell_type": "code",
   "execution_count": 197,
   "metadata": {},
   "outputs": [
    {
     "data": {
      "text/plain": [
       "225.0"
      ]
     },
     "execution_count": 197,
     "metadata": {},
     "output_type": "execute_result"
    }
   ],
   "source": [
    "225 % 337.5"
   ]
  },
  {
   "cell_type": "code",
   "execution_count": 138,
   "metadata": {},
   "outputs": [
    {
     "data": {
      "text/plain": [
       "np.float64(238.64853865045978)"
      ]
     },
     "execution_count": 138,
     "metadata": {},
     "output_type": "execute_result"
    }
   ],
   "source": [
    "pd.Series([337.5, 0]).std()"
   ]
  },
  {
   "cell_type": "code",
   "execution_count": 210,
   "metadata": {},
   "outputs": [
    {
     "data": {
      "text/plain": [
       "0      NaN\n",
       "1      NaN\n",
       "2    337.5\n",
       "3    337.5\n",
       "4    337.5\n",
       "5    337.5\n",
       "dtype: float64"
      ]
     },
     "execution_count": 210,
     "metadata": {},
     "output_type": "execute_result"
    }
   ],
   "source": [
    "dir = pd.Series([0, 337.5, 337.5, 0, 337.5, 337.5])\n",
    "dir.rolling(window=3).max() - dir.rolling(window=3).min()"
   ]
  },
  {
   "cell_type": "code",
   "execution_count": 209,
   "metadata": {},
   "outputs": [
    {
     "data": {
      "text/plain": [
       "0      NaN\n",
       "1      NaN\n",
       "2    337.5\n",
       "3    337.5\n",
       "4    337.5\n",
       "5    337.5\n",
       "dtype: float64"
      ]
     },
     "execution_count": 209,
     "metadata": {},
     "output_type": "execute_result"
    }
   ],
   "source": [
    "dir = pd.Series([0, 337.5, 337.5, 0, 337.5, 337.5])\n",
    "dir.rolling(window=3).max() - dir.rolling(window=3).min()"
   ]
  },
  {
   "cell_type": "markdown",
   "metadata": {},
   "source": [
    "COPY or ASSIGN"
   ]
  },
  {
   "cell_type": "code",
   "execution_count": 234,
   "metadata": {},
   "outputs": [
    {
     "data": {
      "text/html": [
       "<div>\n",
       "<style scoped>\n",
       "    .dataframe tbody tr th:only-of-type {\n",
       "        vertical-align: middle;\n",
       "    }\n",
       "\n",
       "    .dataframe tbody tr th {\n",
       "        vertical-align: top;\n",
       "    }\n",
       "\n",
       "    .dataframe thead th {\n",
       "        text-align: right;\n",
       "    }\n",
       "</style>\n",
       "<table border=\"1\" class=\"dataframe\">\n",
       "  <thead>\n",
       "    <tr style=\"text-align: right;\">\n",
       "      <th></th>\n",
       "      <th>tp</th>\n",
       "      <th>ur</th>\n",
       "    </tr>\n",
       "  </thead>\n",
       "  <tbody>\n",
       "    <tr>\n",
       "      <th>0</th>\n",
       "      <td>-10.2</td>\n",
       "      <td>99</td>\n",
       "    </tr>\n",
       "    <tr>\n",
       "      <th>1</th>\n",
       "      <td>12.0</td>\n",
       "      <td>120</td>\n",
       "    </tr>\n",
       "  </tbody>\n",
       "</table>\n",
       "</div>"
      ],
      "text/plain": [
       "     tp   ur\n",
       "0 -10.2   99\n",
       "1  12.0  120"
      ]
     },
     "execution_count": 234,
     "metadata": {},
     "output_type": "execute_result"
    }
   ],
   "source": [
    "c3 = [\n",
    "    [\"tp\", \"ur\"],\n",
    "    [-10.2, 99],\n",
    "    [12, 120]\n",
    "]\n",
    "df3 = pd.DataFrame(c[1:], columns=c[0])\n",
    "df3"
   ]
  },
  {
   "cell_type": "code",
   "execution_count": 223,
   "metadata": {},
   "outputs": [],
   "source": [
    "df4 = df3.copy() # NB altrimenti modifico anche df3"
   ]
  },
  {
   "cell_type": "code",
   "execution_count": 221,
   "metadata": {},
   "outputs": [
    {
     "data": {
      "text/html": [
       "<div>\n",
       "<style scoped>\n",
       "    .dataframe tbody tr th:only-of-type {\n",
       "        vertical-align: middle;\n",
       "    }\n",
       "\n",
       "    .dataframe tbody tr th {\n",
       "        vertical-align: top;\n",
       "    }\n",
       "\n",
       "    .dataframe thead th {\n",
       "        text-align: right;\n",
       "    }\n",
       "</style>\n",
       "<table border=\"1\" class=\"dataframe\">\n",
       "  <thead>\n",
       "    <tr style=\"text-align: right;\">\n",
       "      <th></th>\n",
       "      <th>tp</th>\n",
       "      <th>ur</th>\n",
       "      <th>boh</th>\n",
       "    </tr>\n",
       "  </thead>\n",
       "  <tbody>\n",
       "    <tr>\n",
       "      <th>0</th>\n",
       "      <td>-10.2</td>\n",
       "      <td>99</td>\n",
       "      <td>100</td>\n",
       "    </tr>\n",
       "    <tr>\n",
       "      <th>1</th>\n",
       "      <td>12.0</td>\n",
       "      <td>120</td>\n",
       "      <td>200</td>\n",
       "    </tr>\n",
       "  </tbody>\n",
       "</table>\n",
       "</div>"
      ],
      "text/plain": [
       "     tp   ur  boh\n",
       "0 -10.2   99  100\n",
       "1  12.0  120  200"
      ]
     },
     "execution_count": 221,
     "metadata": {},
     "output_type": "execute_result"
    }
   ],
   "source": [
    "df4.insert(2, \"boh\", [100, 200])\n",
    "df4"
   ]
  },
  {
   "cell_type": "code",
   "execution_count": 222,
   "metadata": {},
   "outputs": [
    {
     "data": {
      "text/html": [
       "<div>\n",
       "<style scoped>\n",
       "    .dataframe tbody tr th:only-of-type {\n",
       "        vertical-align: middle;\n",
       "    }\n",
       "\n",
       "    .dataframe tbody tr th {\n",
       "        vertical-align: top;\n",
       "    }\n",
       "\n",
       "    .dataframe thead th {\n",
       "        text-align: right;\n",
       "    }\n",
       "</style>\n",
       "<table border=\"1\" class=\"dataframe\">\n",
       "  <thead>\n",
       "    <tr style=\"text-align: right;\">\n",
       "      <th></th>\n",
       "      <th>tp</th>\n",
       "      <th>ur</th>\n",
       "    </tr>\n",
       "  </thead>\n",
       "  <tbody>\n",
       "    <tr>\n",
       "      <th>0</th>\n",
       "      <td>-10.2</td>\n",
       "      <td>99</td>\n",
       "    </tr>\n",
       "    <tr>\n",
       "      <th>1</th>\n",
       "      <td>12.0</td>\n",
       "      <td>120</td>\n",
       "    </tr>\n",
       "  </tbody>\n",
       "</table>\n",
       "</div>"
      ],
      "text/plain": [
       "     tp   ur\n",
       "0 -10.2   99\n",
       "1  12.0  120"
      ]
     },
     "execution_count": 222,
     "metadata": {},
     "output_type": "execute_result"
    }
   ],
   "source": [
    "df3"
   ]
  },
  {
   "cell_type": "code",
   "execution_count": 235,
   "metadata": {},
   "outputs": [],
   "source": [
    "c4 = c3.copy()"
   ]
  },
  {
   "cell_type": "code",
   "execution_count": 236,
   "metadata": {},
   "outputs": [],
   "source": [
    "c4.append([100, 300])"
   ]
  },
  {
   "cell_type": "code",
   "execution_count": 237,
   "metadata": {},
   "outputs": [
    {
     "data": {
      "text/plain": [
       "[['tp', 'ur'], [-10.2, 99], [12, 120], [100, 300]]"
      ]
     },
     "execution_count": 237,
     "metadata": {},
     "output_type": "execute_result"
    }
   ],
   "source": [
    "c4"
   ]
  },
  {
   "cell_type": "code",
   "execution_count": 238,
   "metadata": {},
   "outputs": [
    {
     "data": {
      "text/plain": [
       "[['tp', 'ur'], [-10.2, 99], [12, 120]]"
      ]
     },
     "execution_count": 238,
     "metadata": {},
     "output_type": "execute_result"
    }
   ],
   "source": [
    "c3"
   ]
  },
  {
   "cell_type": "markdown",
   "metadata": {},
   "source": [
    "non funziona così per le variabili "
   ]
  },
  {
   "cell_type": "code",
   "execution_count": 239,
   "metadata": {},
   "outputs": [],
   "source": [
    "a = 4\n",
    "b = a"
   ]
  },
  {
   "cell_type": "code",
   "execution_count": 243,
   "metadata": {},
   "outputs": [
    {
     "data": {
      "text/plain": [
       "6"
      ]
     },
     "execution_count": 243,
     "metadata": {},
     "output_type": "execute_result"
    }
   ],
   "source": [
    "b += 1\n",
    "b"
   ]
  },
  {
   "cell_type": "code",
   "execution_count": 244,
   "metadata": {},
   "outputs": [
    {
     "data": {
      "text/plain": [
       "4"
      ]
     },
     "execution_count": 244,
     "metadata": {},
     "output_type": "execute_result"
    }
   ],
   "source": [
    "a"
   ]
  },
  {
   "cell_type": "code",
   "execution_count": 256,
   "metadata": {},
   "outputs": [],
   "source": [
    "from windrose import WindroseAxes"
   ]
  },
  {
   "cell_type": "code",
   "execution_count": 260,
   "metadata": {},
   "outputs": [
    {
     "name": "stdout",
     "output_type": "stream",
     "text": [
      "[9.62215881e+00 3.37356728e+01 2.94006548e+02 2.00753919e+02\n",
      " 7.16952721e+01 1.45810748e+02 1.60737426e+02 5.54661506e+01\n",
      " 3.44781743e+02 2.11627277e+02 2.66739734e+02 9.80360026e+01\n",
      " 7.13095125e+01 2.96136900e+02 2.90551255e+02 2.12824930e+02\n",
      " 2.78011600e+02 2.79874893e+02 3.39734663e+01 4.28200481e+01\n",
      " 1.63180039e+01 1.50600976e+02 4.15474022e+01 5.13841460e+01\n",
      " 1.31170226e+02 8.06417176e+01 2.68872075e+01 3.30897344e+02\n",
      " 3.46247492e+02 2.44703879e+02 1.41521474e+02 6.24286601e+01\n",
      " 1.34324221e+02 1.47179713e+02 2.06412339e+02 3.42431694e+02\n",
      " 1.54642265e+02 1.71754859e+02 1.64410634e+02 2.43142162e+02\n",
      " 2.10540214e+02 1.26661325e+02 3.34461028e+02 2.15219395e+02\n",
      " 1.31867975e+02 2.85784752e+02 2.27084806e+02 8.44691206e+01\n",
      " 5.41362828e+01 7.62953735e+01 1.48226089e+02 1.10787583e+02\n",
      " 2.28052748e+02 2.25124134e+02 2.80265803e+02 1.90576823e+01\n",
      " 1.49999632e+02 1.33763147e+02 5.57717678e+01 1.23134724e+02\n",
      " 2.55075292e+02 2.64347051e+02 9.70088654e+01 2.74439569e+02\n",
      " 3.51872369e+02 1.03191722e+00 1.36191165e+02 1.38098226e+02\n",
      " 7.35857737e+01 2.60679430e+01 1.06441145e-01 1.51158776e+02\n",
      " 1.60464111e+02 3.28464977e+02 1.97599852e+02 1.13736721e+02\n",
      " 2.54646016e+02 2.60568064e+02 1.13950310e+02 3.03390773e+02\n",
      " 3.56742114e+02 2.19660623e+02 5.71608944e-01 1.34926057e+02\n",
      " 1.67994765e+02 3.24002619e+02 5.81443260e+01 3.27403328e+02\n",
      " 2.55925369e+02 3.20711697e+02 1.03021841e+02 3.40408928e+02\n",
      " 1.12449072e+02 1.46098025e+02 2.29051895e+02 7.67610444e+01\n",
      " 5.16756637e+01 1.29775156e+02 1.54365498e+02 7.00126253e+01\n",
      " 2.22906295e+02 2.95171481e+02 3.20551315e+02 9.24458670e+01\n",
      " 2.81904260e+02 3.40165821e+02 4.30142688e+01 3.16200230e+02\n",
      " 3.19597057e+02 7.04321562e+01 1.74632162e+02 1.21407111e+00\n",
      " 9.67984210e+01 1.27874668e+02 2.33123075e+02 3.13020410e+02\n",
      " 2.98594327e+02 6.85060104e+01 2.05934695e+02 2.35911980e+02\n",
      " 1.69559399e+02 7.66848035e+01 6.70312996e+00 3.45966170e+02\n",
      " 3.51880745e+01 7.61602793e+01 3.39959708e+02 4.27303776e+01\n",
      " 2.82832287e+02 3.06463290e+02 8.27848051e-01 3.14000804e+02\n",
      " 2.45995121e+02 1.91386849e+02 4.31310307e+01 2.34913486e+02\n",
      " 8.48742962e+01 1.91561851e+02 7.56177931e+01 3.38445714e+02\n",
      " 3.08024407e+02 5.12243485e+01 2.59565625e+02 1.61618729e+02\n",
      " 1.51924944e+02 3.58062826e+02 2.51094212e+02 3.52962671e+02\n",
      " 2.31024224e+02 2.99306226e+02 1.10788113e+02 9.63840548e+01\n",
      " 2.70096053e+02 2.57232739e+02 2.53994260e+02 1.87379956e+02\n",
      " 3.09973310e+02 4.56196967e+01 7.74050148e+01 4.10675006e+01\n",
      " 8.01222504e+01 3.33907123e+02 1.67543068e+02 8.78737976e+01\n",
      " 1.95351685e+02 2.49808495e+02 9.64463302e+01 4.25618567e+00\n",
      " 2.06918263e+02 3.18131341e+02 1.38774520e+02 5.65712655e+00\n",
      " 5.01620094e+01 1.12382323e+02 2.50894526e+02 2.15086309e+02\n",
      " 2.47510731e+02 3.32480747e+02 2.76382458e+01 3.10852267e+02\n",
      " 3.30295631e+02 3.22585206e+02 3.11089262e+02 4.11511744e+01\n",
      " 2.81747310e+02 4.89665048e+01 2.98074775e+02 1.58193033e+02\n",
      " 2.40632411e+02 1.08984728e+02 2.60853361e+01 6.17130931e+01\n",
      " 3.27236340e+01 3.39065929e+02 2.58732488e+02 3.35582233e+02\n",
      " 2.82173073e+02 2.66982019e+02 1.30032082e+02 2.57108052e+01\n",
      " 1.72431624e+02 3.51788273e+02 3.32566751e+02 2.83411490e+02\n",
      " 3.31579733e+02 1.17464695e+00 4.41138733e+00 1.59939436e+02\n",
      " 2.82359163e+02 1.07436508e+02 4.87105914e+01 3.58323403e+02\n",
      " 3.06344113e+02 1.83713803e+02 1.91148257e+02 2.39560456e+02\n",
      " 2.91390526e+02 1.43728752e+02 1.65099447e+02 3.52206127e+02\n",
      " 2.21714955e+02 7.26581646e+00 1.96608114e+02 6.55072907e+01\n",
      " 3.13153245e+02 2.28276774e+02 2.28796024e+02 1.51142659e+02\n",
      " 3.68743190e+00 2.16108458e+02 2.26812428e+02 4.36764800e+00\n",
      " 2.90157360e+02 3.59897280e+02 1.18441646e+02 2.18542328e+02\n",
      " 1.89462683e+02 3.94252931e+01 1.66881022e+02 8.72807916e+01\n",
      " 8.38233629e+01 1.38259619e+02 2.50263889e+02 1.78401517e+02\n",
      " 2.00238082e+02 1.12325397e+01 5.75351738e+01 2.50271915e+01\n",
      " 2.99944690e+02 2.35685708e+01 2.42330261e+02 1.58044537e+02\n",
      " 1.45050147e+02 3.82199897e+01 1.89089855e+02 1.08834095e+02\n",
      " 9.98138948e+01 2.74479830e+02 2.54112711e+02 3.46868442e+02\n",
      " 3.27461925e+02 2.74688090e+02 1.66917190e+02 3.53028479e+01\n",
      " 1.08536404e+02 8.68391008e+01 7.13410228e+01 2.36911619e+02\n",
      " 9.94806275e+01 1.06889797e+02 3.35863996e+01 3.50390979e+02\n",
      " 2.41747126e+02 1.46591674e+02 2.50914606e+02 9.85361198e+01\n",
      " 2.61054119e+02 7.15116184e+01 2.76070481e+02 3.19831406e+02\n",
      " 3.50163830e+02 1.17451286e+02 3.40509361e+02 4.91887463e+01\n",
      " 4.21391546e+01 4.98380309e+00 1.53892215e+02 6.32867123e+01\n",
      " 2.52033672e+02 2.04220269e+02 2.70169350e+02 2.70051085e+02\n",
      " 1.08294526e+02 2.78616015e+02 3.08751747e+02 1.30989694e+02\n",
      " 6.00424859e+00 6.68901471e+01 3.24709125e+02 1.35907189e+02\n",
      " 2.17651690e+02 1.91732838e+01 6.14729578e+01 9.90375571e+01\n",
      " 3.37658989e+02 2.25977023e+02 9.47948188e+01 1.87258014e+02\n",
      " 5.48354712e+01 2.84816552e+02 2.37504178e+02 1.52280402e+02\n",
      " 1.81052766e+01 1.82091039e+01 2.57057413e+02 2.88116731e+02\n",
      " 2.55102722e+02 1.99370116e+02 2.70807606e+01 2.61399310e+02\n",
      " 2.61602281e+02 1.95169412e+02 2.28637922e+02 3.16347930e+02\n",
      " 1.76698066e+02 2.33513031e+01 2.82077754e+02 3.52980060e+02\n",
      " 7.50926132e+01 1.44716812e+02 1.07401048e+02 1.71964852e+02\n",
      " 6.47150897e-01 2.80438360e+02 1.64796764e+02 1.14248010e+02\n",
      " 8.19768731e+01 2.41848391e+02 3.24273564e+02 1.78339534e+02\n",
      " 3.24595378e+02 1.04782874e+02 2.27470890e+02 3.04206285e+02\n",
      " 1.03178234e+02 2.98368156e+02 3.45032456e+02 1.53129440e+02\n",
      " 2.85759964e+02 2.47227908e+02 2.83515396e+02 1.95970182e+01\n",
      " 2.00249214e+02 2.49484522e+02 3.16060077e+02 3.44644496e+02\n",
      " 3.00471522e+02 8.63727449e+00 1.29511179e+02 2.95595583e+02\n",
      " 2.19773741e+02 3.42929233e+01 5.49840039e+01 2.78515089e+02\n",
      " 8.43906924e+01 2.77436906e+02 5.36175066e+01 2.32167216e+02\n",
      " 1.70480897e+02 2.74582943e+02 1.83442094e+00 3.01040040e-01\n",
      " 6.27079824e+01 3.46988506e+02 1.82276600e+02 2.29634357e+02\n",
      " 2.05377672e+02 9.43584862e+01 1.09253977e+02 2.30847241e+02\n",
      " 1.71545455e+02 2.84942904e+02 1.23333144e+02 3.57371809e+02\n",
      " 1.70584060e+02 7.17008169e+01 2.05628954e+02 2.89732131e+02\n",
      " 1.96485096e+02 1.68965085e+02 2.67271586e+02 3.42977351e+02\n",
      " 1.06578218e+01 1.21615354e+01 6.73034077e+01 2.99413118e+02\n",
      " 1.96551759e+02 1.18024455e+02 2.12790558e+02 3.48350659e+02\n",
      " 9.58589103e+01 3.59681904e+02 6.15431864e+01 2.65092730e+02\n",
      " 2.88557050e+02 1.00351526e+02 2.18227335e+02 2.89663846e+02\n",
      " 4.95472684e+01 1.70377418e+02 2.95348044e+02 1.71994668e+02\n",
      " 2.04942724e+02 3.17362668e+02 2.13452350e+02 1.43969070e+02\n",
      " 2.94474060e+02 3.51879919e+02 1.61305458e+02 1.32345111e+02\n",
      " 5.10898346e+00 2.20538646e+02 1.70886010e+02 7.13701976e+00\n",
      " 2.68650444e+02 2.57029267e+02 2.26987922e+02 1.87008031e+01\n",
      " 3.51941956e+02 2.09848170e+01 6.86229208e+01 2.13555510e+02\n",
      " 1.50273810e+02 1.24289337e+02 1.09746629e+02 3.73018045e+01\n",
      " 2.72613534e+02 1.83032923e+02 3.43187764e+02 1.84338097e+02\n",
      " 5.83329219e+01 1.76012565e+02 2.82628900e+02 3.45989835e+02\n",
      " 1.85595037e+02 2.73312568e+02 6.40154005e+01 3.55200938e+02\n",
      " 1.50208634e+02 2.67545174e+02 2.17985433e+02 3.59054853e+02\n",
      " 3.04240100e+02 3.24025810e+02 2.71092505e+02 2.10375955e+02\n",
      " 1.87666244e+02 1.51862572e+02 1.39127000e+02 1.50504004e+02\n",
      " 1.64291582e+01 2.63196093e+02 1.42148196e+02 1.42648702e+02\n",
      " 6.56192069e+01 2.11851689e+02 2.05569829e+02 3.50369046e+02\n",
      " 2.19555266e+00 3.38654545e+02 1.23597185e+02 4.30721662e+01\n",
      " 2.36891171e+02 6.85043979e+00 1.47494737e+02 1.60393819e+02\n",
      " 3.59282489e+02 1.31393100e+02 1.86953865e+02 2.41198982e+01\n",
      " 2.47306853e+02 2.02850856e+02 9.95528311e+01 3.36409796e+02\n",
      " 1.39111948e+02 2.25899607e+02 2.02991720e+02 1.07496146e+02\n",
      " 2.44096731e+02 2.14483047e+02 2.04858444e+02 1.89166645e+02\n",
      " 7.14012081e+01 2.37187085e+02 1.18391007e+01 8.74660276e+01\n",
      " 2.38099654e+02 1.70478400e+01 9.04339469e+01 2.83417147e+01]\n"
     ]
    }
   ],
   "source": [
    "N = 500\n",
    "ws = np.random.random(N) * 6\n",
    "wd = np.random.random(N) * 360"
   ]
  },
  {
   "cell_type": "code",
   "execution_count": 265,
   "metadata": {},
   "outputs": [
    {
     "data": {
      "text/plain": [
       "<matplotlib.legend.Legend at 0x7ef2a64de920>"
      ]
     },
     "execution_count": 265,
     "metadata": {},
     "output_type": "execute_result"
    },
    {
     "data": {
      "image/png": "[encoded data removed]",
      "text/plain": [
       "<Figure size 640x640 with 1 Axes>"
      ]
     },
     "metadata": {},
     "output_type": "display_data"
    }
   ],
   "source": [
    "ax = WindroseAxes.from_ax()\n",
    "ax.bar(wd, ws, normed=True, opening=0.8, edgecolor=\"white\")\n",
    "ax.set_legend()"
   ]
  },
  {
   "cell_type": "code",
   "execution_count": 261,
   "metadata": {},
   "outputs": [],
   "source": [
    "l = [\"a\",\"b\"]"
   ]
  },
  {
   "cell_type": "code",
   "execution_count": 262,
   "metadata": {},
   "outputs": [
    {
     "ename": "TypeError",
     "evalue": "'builtin_function_or_method' object is not subscriptable",
     "output_type": "error",
     "traceback": [
      "\u001b[0;31m---------------------------------------------------------------------------\u001b[0m",
      "\u001b[0;31mTypeError\u001b[0m                                 Traceback (most recent call last)",
      "Cell \u001b[0;32mIn[262], line 1\u001b[0m\n\u001b[0;32m----> 1\u001b[0m \u001b[43ml\u001b[49m\u001b[38;5;241;43m.\u001b[39;49m\u001b[43mindex\u001b[49m\u001b[43m[\u001b[49m\u001b[38;5;124;43m\"\u001b[39;49m\u001b[38;5;124;43ma\u001b[39;49m\u001b[38;5;124;43m\"\u001b[39;49m\u001b[43m]\u001b[49m\n",
      "\u001b[0;31mTypeError\u001b[0m: 'builtin_function_or_method' object is not subscriptable"
     ]
    }
   ],
   "source": []
  },
  {
   "cell_type": "code",
   "execution_count": null,
   "metadata": {},
   "outputs": [],
   "source": []
  }
 ],
 "metadata": {
  "kernelspec": {
   "display_name": "env1",
   "language": "python",
   "name": "python3"
  },
  "language_info": {
   "codemirror_mode": {
    "name": "ipython",
    "version": 3
   },
   "file_extension": ".py",
   "mimetype": "text/x-python",
   "name": "python",
   "nbconvert_exporter": "python",
   "pygments_lexer": "ipython3",
   "version": "3.10.12"
  }
 },
 "nbformat": 4,
 "nbformat_minor": 5
}
